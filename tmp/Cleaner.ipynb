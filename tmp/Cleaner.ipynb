{
 "cells": [
  {
   "cell_type": "code",
   "execution_count": 2,
   "id": "371a5487",
   "metadata": {},
   "outputs": [
    {
     "name": "stderr",
     "output_type": "stream",
     "text": [
      "Converting PDFs to text:  33%|███▎      | 3/9 [00:00<00:00, 20.59it/s]"
     ]
    },
    {
     "name": "stdout",
     "output_type": "stream",
     "text": [
      "Error writing to /Bangalore _ Bengaluru - Indiranagar _ Barbeque Nation.txt: [Errno 13] Permission denied: '/Bangalore _ Bengaluru - Indiranagar _ Barbeque Nation.txt'\n",
      "Converted Bangalore _ Bengaluru - Indiranagar _ Barbeque Nation.pdf to Bangalore _ Bengaluru - Indiranagar _ Barbeque Nation.txt\n",
      "Error writing to /Bangalore _ Electronic City _ Barbeque Nation.txt: [Errno 13] Permission denied: '/Bangalore _ Electronic City _ Barbeque Nation.txt'\n",
      "Converted Bangalore _ Electronic City _ Barbeque Nation.pdf to Bangalore _ Electronic City _ Barbeque Nation.txt\n",
      "Error writing to /Bangalore _ JP Nagar _ Barbeque Nation.txt: [Errno 13] Permission denied: '/Bangalore _ JP Nagar _ Barbeque Nation.txt'\n",
      "Converted Bangalore _ JP Nagar _ Barbeque Nation.pdf to Bangalore _ JP Nagar _ Barbeque Nation.txt\n",
      "Error writing to /Bangalore _ Koramangala 1st Block _ Barbeque Nation.txt: [Errno 13] Permission denied: '/Bangalore _ Koramangala 1st Block _ Barbeque Nation.txt'\n",
      "Converted Bangalore _ Koramangala 1st Block _ Barbeque Nation.pdf to Bangalore _ Koramangala 1st Block _ Barbeque Nation.txt\n",
      "Error writing to /Menu and Drinks _ Barbeque Nation.txt: [Errno 13] Permission denied: '/Menu and Drinks _ Barbeque Nation.txt'\n",
      "Converted Menu and Drinks _ Barbeque Nation.pdf to Menu and Drinks _ Barbeque Nation.txt\n"
     ]
    },
    {
     "name": "stderr",
     "output_type": "stream",
     "text": [
      "Converting PDFs to text: 100%|██████████| 9/9 [00:00<00:00, 21.51it/s]"
     ]
    },
    {
     "name": "stdout",
     "output_type": "stream",
     "text": [
      "Error writing to /Menu List _ Barbeque Nation.txt: [Errno 13] Permission denied: '/Menu List _ Barbeque Nation.txt'\n",
      "Converted Menu List _ Barbeque Nation.pdf to Menu List _ Barbeque Nation.txt\n",
      "Error writing to /New Delhi - Connaught Place _ CP _ cp _ Barbeque Nation.txt: [Errno 13] Permission denied: '/New Delhi - Connaught Place _ CP _ cp _ Barbeque Nation.txt'\n",
      "Converted New Delhi - Connaught Place _ CP _ cp _ Barbeque Nation.pdf to New Delhi - Connaught Place _ CP _ cp _ Barbeque Nation.txt\n",
      "Error writing to /New Delhi - Sector C, Vasant Kunj _ Barbeque Nation.txt: [Errno 13] Permission denied: '/New Delhi - Sector C, Vasant Kunj _ Barbeque Nation.txt'\n",
      "Converted New Delhi - Sector C, Vasant Kunj _ Barbeque Nation.pdf to New Delhi - Sector C, Vasant Kunj _ Barbeque Nation.txt\n",
      "Error writing to /New Delhi - Unity Mall, Janakpuri _ Barbeque Nation.txt: [Errno 13] Permission denied: '/New Delhi - Unity Mall, Janakpuri _ Barbeque Nation.txt'\n",
      "Converted New Delhi - Unity Mall, Janakpuri _ Barbeque Nation.pdf to New Delhi - Unity Mall, Janakpuri _ Barbeque Nation.txt\n"
     ]
    },
    {
     "name": "stderr",
     "output_type": "stream",
     "text": [
      "\n"
     ]
    }
   ],
   "source": [
    "# Read all pdf in knowledge base and convert to text\n",
    "import os\n",
    "import re\n",
    "import sys\n",
    "\n",
    "import fitz  # PyMuPDF\n",
    "from tqdm import tqdm\n",
    "\n",
    "def get_knowledge_base_path():\n",
    "    \"\"\"\n",
    "    Get the path to the knowledge base directory.\n",
    "    \"\"\"\n",
    "    # Replace with your actual knowledge base path\n",
    "    return \"Knowledge Base/\"\n",
    "\n",
    "def get_knowledge_base_files(path, extension):\n",
    "    \"\"\"\n",
    "    Get all files in the knowledge base directory with the specified extension.\n",
    "    \"\"\"\n",
    "    return [f for f in os.listdir(path) if f.endswith(extension)]\n",
    "\n",
    "def get_knowledge_base_text_path():\n",
    "    \"\"\"\n",
    "    Get the path to the directory where text files will be saved.\n",
    "    \"\"\"\n",
    "    # Replace with your actual text file path\n",
    "    return \"/\"\n",
    "def get_knowledge_base_text_file_path(file_name):\n",
    "    \"\"\"\n",
    "    Get the full path for the text file to be saved.\n",
    "    \"\"\"\n",
    "    # Replace with your actual text file path\n",
    "    return os.path.join(get_knowledge_base_text_path(), file_name)\n",
    "\n",
    "def write_to_file(file_path, content):\n",
    "    \"\"\"\n",
    "    Write content to a file.\n",
    "    \"\"\"\n",
    "    try:\n",
    "        with open(file_path, 'w', encoding='utf-8') as f:\n",
    "            f.write(content)\n",
    "    except Exception as e:\n",
    "        print(f\"Error writing to {file_path}: {e}\")\n",
    "\n",
    "def convert_pdf_to_text(pdf_path):\n",
    "    \"\"\"\n",
    "    Convert a PDF file to text using PyMuPDF.\n",
    "    \"\"\"\n",
    "    text = \"\"\n",
    "    try:\n",
    "        with fitz.open(pdf_path) as doc:\n",
    "            for page in doc:\n",
    "                text += page.get_text()\n",
    "    except Exception as e:\n",
    "        print(f\"Error reading {pdf_path}: {e}\")\n",
    "    return text\n",
    "\n",
    "def main():\n",
    "    # Get the knowledge base path\n",
    "    knowledge_base_path = get_knowledge_base_path()\n",
    "    if not os.path.exists(knowledge_base_path):\n",
    "        print(f\"Knowledge base path does not exist: {knowledge_base_path}\")\n",
    "        sys.exit(1)\n",
    "\n",
    "    # Get all PDF files in the knowledge base\n",
    "    pdf_files = get_knowledge_base_files(knowledge_base_path, \".pdf\")\n",
    "    if not pdf_files:\n",
    "        print(\"No PDF files found in the knowledge base.\")\n",
    "        sys.exit(0)\n",
    "\n",
    "    # Create a directory for the text files\n",
    "    text_dir = get_knowledge_base_text_path()\n",
    "    os.makedirs(text_dir, exist_ok=True)\n",
    "\n",
    "    # Convert each PDF file to text\n",
    "    for pdf_file in tqdm(pdf_files, desc=\"Converting PDFs to text\"):\n",
    "        pdf_path = os.path.join(knowledge_base_path, pdf_file)\n",
    "        text = convert_pdf_to_text(pdf_path)\n",
    "        if text:\n",
    "            text_file_name = re.sub(r'\\.pdf$', '.txt', pdf_file)\n",
    "            text_file_path = get_knowledge_base_text_file_path(text_file_name)\n",
    "            write_to_file(text_file_path, text)  # Save the text to a file\n",
    "            print(f\"Converted {pdf_file} to {text_file_name}\")\n",
    "        else:\n",
    "            print(f\"Failed to convert {pdf_file} to text.\")\n",
    "\n",
    "if __name__ == \"__main__\":\n",
    "    main()\n"
   ]
  },
  {
   "cell_type": "code",
   "execution_count": null,
   "id": "73c47caf",
   "metadata": {},
   "outputs": [],
   "source": []
  }
 ],
 "metadata": {
  "kernelspec": {
   "display_name": "Python 3",
   "language": "python",
   "name": "python3"
  },
  "language_info": {
   "codemirror_mode": {
    "name": "ipython",
    "version": 3
   },
   "file_extension": ".py",
   "mimetype": "text/x-python",
   "name": "python",
   "nbconvert_exporter": "python",
   "pygments_lexer": "ipython3",
   "version": "3.12.2"
  }
 },
 "nbformat": 4,
 "nbformat_minor": 5
}
