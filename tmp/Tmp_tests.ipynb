{
 "cells": [
  {
   "cell_type": "code",
   "execution_count": 18,
   "id": "a76fb759",
   "metadata": {},
   "outputs": [
    {
     "name": "stdout",
     "output_type": "stream",
     "text": [
      "200\n"
     ]
    }
   ],
   "source": [
    "import requests\n",
    "\n",
    "url = \"http://localhost:8000/filter-information/barbeque\"\n",
    "\n",
    "payload = {\n",
    "  \"args\": {\n",
    "    \"source\": \"Data\",\n",
    "    \"additional_filters\": [\n",
    "      {\n",
    "        \"column_name\": \"branch.name\",\n",
    "        \"value\": \"Bangalore : JP Nagar\"\n",
    "      },\n",
    "      {\n",
    "        \"column_name\": \"branch.address.city\",\n",
    "        \"value\": \"Bengaluru\"\n",
    "      }\n",
    "    ]\n",
    "  }\n",
    "}\n",
    "\n",
    "\n",
    "response = requests.post(url, json=payload)\n",
    "\n",
    "print(response.status_code)\n",
    "\n",
    "\n",
    "with open(\"result.csv\", \"w\", encoding=\"utf-8\") as f:\n",
    "    f.write(response.text)\n",
    "\n"
   ]
  },
  {
   "cell_type": "code",
   "execution_count": 15,
   "id": "cacb010b",
   "metadata": {},
   "outputs": [
    {
     "name": "stdout",
     "output_type": "stream",
     "text": [
      "400\n"
     ]
    }
   ],
   "source": [
    "import requests\n",
    "\n",
    "url = \"http://localhost:8000/filter-information/barbeque\"\n",
    "\n",
    "payload = {\n",
    "  \"args\": {\n",
    "    \"primary_name\": \"Barbeque Nation\",\n",
    "    \"source\": \"Data\"\n",
    "  }\n",
    "}\n",
    "\n",
    "\n",
    "\n",
    "response = requests.post(url, json=payload)\n",
    "\n",
    "print(response.status_code)\n",
    "\n",
    "\n",
    "with open(\"result.csv\", \"wb\") as f:\n",
    "    f.write(response.content)\n"
   ]
  },
  {
   "cell_type": "code",
   "execution_count": null,
   "id": "ebebb98c",
   "metadata": {},
   "outputs": [],
   "source": [
    "import pandas as pd\n",
    "import json\n",
    "\n",
    "with open(\"Menu.json\") as f:\n",
    "    data = json.load(f)\n",
    "\n",
    "df = pd.json_normalize(data)  \n",
    "df.to_csv(\"public/barbeque/Menu.csv\", index=False)\n"
   ]
  }
 ],
 "metadata": {
  "kernelspec": {
   "display_name": "Python 3",
   "language": "python",
   "name": "python3"
  },
  "language_info": {
   "codemirror_mode": {
    "name": "ipython",
    "version": 3
   },
   "file_extension": ".py",
   "mimetype": "text/x-python",
   "name": "python",
   "nbconvert_exporter": "python",
   "pygments_lexer": "ipython3",
   "version": "3.12.2"
  }
 },
 "nbformat": 4,
 "nbformat_minor": 5
}
